{
 "cells": [
  {
   "cell_type": "markdown",
   "metadata": {},
   "source": [
    "# PHYS 4025/8025: Introduction to python\n",
    "\n",
    "This notebook is intended to give a (very brief) introduction to using the python programming language for data analysis. It's impossible to cover everything here, so you should expect to continue learning new topics as we work through data analysis exercises over the course of the semester. If you are feeling stuck, don't be afraid to turn to google -- the internet is a programmer's best friend!\n",
    "\n",
    "We will cover the following topics:\n",
    "* Jupyter notebooks\n",
    "* Python basics: built-in functions, simple data types (strings, ints, floats), containers (tuples, lists, dicts), if statements, for loops\n",
    "* Writing functions\n",
    "* Modules\n",
    "* numpy and matplotlib\n",
    "\n",
    "There is lots of example code written below, but just reading through it isn't a great way to learn. Instead, you should look at the examples and then try to modify them, extend them, or repeat them with variations. Copy and paste is not always helpful when you are learning a programming language -- typing things out for yourself can be a good way to remember.\n",
    "\n",
    "Programming can be very frustrating when you are starting out, but a bit of experience goes a long way. If you have done some programming in other languages, then I expect you will be able to quickly adapt to python. If you don't have any previous programming experience, then the skills you learn in this class will surely be useful for the next programming challenge you encounter, even if you are using some other language. "
   ]
  },
  {
   "cell_type": "markdown",
   "metadata": {},
   "source": [
    "## Jupyter notebooks\n",
    "\n",
    "In this class, we will do all of our data analysis using the python programming language in the [Jupyter notebook](http://jupyter.org/) environment. In fact, you are looking at a Jupyter notebook right now. Jupyter is a web application that you access using your web browser. Visually, the notebook looks like a webpage that you can edit. It combines formatted text, images, and code. Underneath the hood, there is a python interpreter running on the host machine (in the OSC cluster). When you write new code or modify existing code, you can instruct the host machine to run it and then inspect the results, which might include text or numerical output, plots, etc.\n",
    "\n",
    "Jupyter is a great tool for data analysis because you can combine text that explains your analysis process, the code that actually runs your analysis, and plots that show your results. More traditional methods of publishing (like academic papers) usually describe the process and show results but omit the detailed code, which could make it much harder to duplicate results or find mistakes."
   ]
  },
  {
   "cell_type": "markdown",
   "metadata": {},
   "source": [
    "The notebook consists of a series of cells. You can create a new cell by pressing the \"+\" (plus) button in the toolbar near the top of the screen. There are different types of cells, specifically \"Markdown\" cells for text or \"Code\" cells for python code. If you double-click on an existing cell, you can edit it. Try double-clicking on this cell and modifying the text. When you are done with a cell, you can \"run\" it by clicking on the right-arrow (play) button in the toolbar, or by typing shift-enter. When you run a Markdown (text) cell, all it does is properly format the text. Markdown refers to a simple and intuitive way of writing formatted text. You can learn about it [here](https://daringfireball.net/projects/markdown/syntax), but any text will be fine for our purposes.\n",
    "\n",
    "Once you have tried modifying this Markdown cell, click on the plus button to create a new cell. By default, the new cell will be a Code cell, but you can change that using the toolbar menu. When you run a Code cell (by clicking the play button or typing shift-enter), the python interpreter will execute any code in that cell. Type the following python code in the new Code cell that you created and then try running it.\n",
    "\n",
    "    print(\"Hello world\")\n",
    "    \n",
    "One nice feature that you will notice is that the Code blocks will help you out by automatically trying to close your parentheses and quotation marks. It will also highlight the code, so you can quickly see the difference between the function `print` and the string `\"Hello world\"`."
   ]
  },
  {
   "cell_type": "markdown",
   "metadata": {},
   "source": [
    "## Python basics"
   ]
  },
  {
   "cell_type": "code",
   "execution_count": null,
   "metadata": {},
   "outputs": [],
   "source": [
    "# Now let's write some code!\n",
    "# The first thing to learn about are comments -- python will ignore any line that starts with '#' (pound sign).\n",
    "# If you are writing some complicated code, it is extremely helpful to leave some comments that explain what is\n",
    "# going on.\n",
    "# Since this is a Jupyter notebook, we also have the option to create a Markdown cell and writing text there, \n",
    "# but a comment is usually the easiest way to make a quick note.\n",
    "\n",
    "# This cell contains only comments. If you run it, nothing will happen!"
   ]
  },
  {
   "cell_type": "markdown",
   "metadata": {},
   "source": [
    "### Built-in functions\n",
    "\n",
    "Above, you created a Code cell and ran `print(\"Hello world\")`. `print` is one of the basic functions built into python. When you use a function, it will typically require one or more inputs. You pass the inputs into the function by putting them in parentheses that follow the function name. For a function that takes multiple inputs, just separate them with commas. Even if a function requires no inputs, you still need to have parentheses (with nothing inside) to tell python that it's supposed to be running a function.\n",
    "\n",
    "Try running the `print` function with several inputs. Those inputs can be strings, like `\"Hello world\"`, numbers, or anything else."
   ]
  },
  {
   "cell_type": "code",
   "execution_count": null,
   "metadata": {},
   "outputs": [],
   "source": [
    "# Use the print function to print a bunch of stuff here.\n"
   ]
  },
  {
   "cell_type": "markdown",
   "metadata": {},
   "source": [
    "Another built-in function is `len`, which tells you the length of the thing you give it as input. This only works for certain types of inputs -- if you try running `len(7)`, it will give an error because a number doesn't have a particular length. However, you can calculate the length of a string of characters, like `\"Hello world\"`.\n",
    "\n",
    "Try using `len` to calculate the length of some character strings (make sure to put quotes around them) and print the results. You can nest the `len` function inside the `print` function so that it prints the numerical result. Or you can take advantage of a neat feature of the Jupyter notebook -- it will automatically print the result of the last line in any Code cell, even if you didn't use a print function. "
   ]
  },
  {
   "cell_type": "code",
   "execution_count": null,
   "metadata": {},
   "outputs": [],
   "source": [
    "# Use the len function with the print function to get the length of some strings.\n"
   ]
  },
  {
   "cell_type": "markdown",
   "metadata": {},
   "source": [
    "`len` is an example of a function that returns a value (the length of the string or other input object). You can assign this value to a variable using '=' (equal sign). When you are assigning a value to a variable, the name of the variable goes on the left and the value goes on the right."
   ]
  },
  {
   "cell_type": "code",
   "execution_count": null,
   "metadata": {},
   "outputs": [],
   "source": [
    "# Quick example of variable assignment.\n",
    "# First, let's assign an integer value to var1\n",
    "var1 = 12\n",
    "print(var1)\n",
    "# Next, let's assign the output of the len function to var2\n",
    "var2 = len(\"the number nineteen\")\n",
    "print(var2)\n"
   ]
  },
  {
   "cell_type": "markdown",
   "metadata": {},
   "source": [
    "One more super useful function is `help`. This function will display documentation about whatever you give it as an input. If you are having trouble figuring out how to use some new function, try plugging it into `help`."
   ]
  },
  {
   "cell_type": "code",
   "execution_count": null,
   "metadata": {},
   "outputs": [],
   "source": [
    "# Run this cell to learn about the len function.\n",
    "help(len)\n"
   ]
  },
  {
   "cell_type": "markdown",
   "metadata": {},
   "source": [
    "### Strings\n",
    "\n",
    "We have already started using strings. Python doesn't care whether you use single quotes (`'Hello world'`) or double quotes (`\"Hello world\"`), so long as you use the same type of quotes to start and end the string.\n",
    "\n",
    "You can combine strings just by adding them together (\"+\" sign):"
   ]
  },
  {
   "cell_type": "code",
   "execution_count": null,
   "metadata": {},
   "outputs": [],
   "source": [
    "# Add together several strings and print the result\n",
    "print(\"PHYS\" + \"4025\" + \"/\" + \"8025\")\n"
   ]
  },
  {
   "cell_type": "markdown",
   "metadata": {},
   "source": [
    "Strings are an example of a more complex object that includes \"methods\", which are functions that are bound to the object. You can access methods with a dot (or period) '.' following the object. Here are a couple of example methods for strings:"
   ]
  },
  {
   "cell_type": "code",
   "execution_count": null,
   "metadata": {},
   "outputs": [],
   "source": [
    "# The split method will break up a string anywhere it finds a space (i.e. breaks it into words). \n",
    "# It returns the separate words as a list of strings. Like other functions, the split method is \n",
    "# followed by parentheses that contain the input arguments. But this is an example of a function\n",
    "# that doesn't need any inputs.\n",
    "long_string = \"Using python to study astrophysics\"\n",
    "print(long_string.split())\n",
    "\n",
    "# The replace method requires two arguments: the segment of the string to be replaced and the \n",
    "# new segment that you want to replace it with.\n",
    "print(long_string.replace(\"astrophysics\", \"astronomy\"))\n",
    "\n",
    "# The format method will search through the string for a set of curly braces '{}' and replaces \n",
    "# them with the function argument. It also has powerful capabilities to format the newly added\n",
    "# text.\n",
    "greeting_string = \"My name is {}\"\n",
    "name = \"Colin\"\n",
    "print(greeting_string.format(name))\n"
   ]
  },
  {
   "cell_type": "markdown",
   "metadata": {},
   "source": [
    "### Numbers\n",
    "\n",
    "We will be doing lots of calculations, so numbers are going to be important. Python has all of the usual arithmetic operations built in: you can add (`+`), subtract (`-`), multiply (`*`), and divide (`/`) numbers. Like many other programming languages, python distinguishes between integers and floating-point (decimal) numbers. If you write a number like `2`, then it will be interpreted as an integer, but if you write `2.0` it will be interpreted as floating-point.\n",
    "\n",
    "However, python3 (which we are using) isn't too much of a stickler about this distinction. For example, if you divide one integer by another then the result will automatically be switched to a floating-point number if the answer is not a round integer. In many other programming languages (including python2!), calculating `2 / 3` will return `0` because integer arithmetic only counts the whole numbers. If you want integer arithmetic in python3, you can use a double divide sign, i.e. `2 // 3` will return `0`.\n",
    "\n",
    "To raise a number to a power, python uses a double-multiply symbol `**`. For example, `4**2` equals `16`.\n"
   ]
  },
  {
   "cell_type": "code",
   "execution_count": null,
   "metadata": {},
   "outputs": [],
   "source": [
    "# Try dividing 2 by 3 and printing the result.\n",
    "# Also try some other basic arithmetic while you're at it.\n",
    "print(2 / 3)\n",
    "print(2 // 3)\n"
   ]
  },
  {
   "cell_type": "markdown",
   "metadata": {},
   "source": [
    "### Lists\n",
    "\n",
    "A list is just a container that holds multiple items in order. You can have a list of numbers, a list of strings, or a mixed list that has entries of many different types. You can create a list simply by separating multiple items with commas and putting it in square brackets '[ ]'. "
   ]
  },
  {
   "cell_type": "code",
   "execution_count": null,
   "metadata": {},
   "outputs": [],
   "source": [
    "# Create a list using square brackets.\n",
    "mixed_list = [12, \"a string\", 3.14159, \"another string\"]\n",
    "print(mixed_list)\n"
   ]
  },
  {
   "cell_type": "markdown",
   "metadata": {},
   "source": [
    "You can use square brackets to access an specific entry in a list. The entries are numbered starting with zero. You can also update the entries of a list by assigning values to them. You can also extend the list using the `append` method."
   ]
  },
  {
   "cell_type": "code",
   "execution_count": null,
   "metadata": {},
   "outputs": [],
   "source": [
    "# Print entries 0 and 3.\n",
    "print(mixed_list[0])\n",
    "print(mixed_list[3])\n",
    "# Update entry 3, then print the updated value.\n",
    "mixed_list[3] = 15\n",
    "print(mixed_list[3])\n",
    "# Now, append a new entry.\n",
    "mixed_list.append(\"appendix\")\n",
    "print(mixed_list)\n"
   ]
  },
  {
   "cell_type": "markdown",
   "metadata": {},
   "source": [
    "We can quickly make a list of numbers using the `range` function (except in python3, `range` actually returns a `range` object, which is slightly different from a list... but we'll ignore that). If you run `range(100)`, it will give you a list of every number starting from 0 and ending *just before* 100 (so it includes 99 but not 100). You can also specify the start and end points for range: `range(5, 15)` gives you all the numbers from 5 to 15 (but not including 15). Finally, you can also choose to specify the step size: `range(0, 10, 2)` gives you the numbers from 0 to 10 in steps of 2. Try it out."
   ]
  },
  {
   "cell_type": "code",
   "execution_count": null,
   "metadata": {},
   "outputs": [],
   "source": [
    "# Three different ways to get lists of numbers from the range function.\n",
    "r0 = range(10)\n",
    "print(r0)       # This prints the range object.\n",
    "print(list(r0)) # This converts the range object into a list and then prints values in the list.\n",
    "print(list(range(3, 10)))\n",
    "print(list(range(0, 10, 2)))\n"
   ]
  },
  {
   "cell_type": "markdown",
   "metadata": {},
   "source": [
    "Now that we can use `range` to quickly generate some long lists, we can learn about slicing. To get a slice of a list, you use the square brackets, just like when we were accessing individual list entries. However, slicing allows you to access many entries at once. It's easiest to explain with some examples."
   ]
  },
  {
   "cell_type": "code",
   "execution_count": null,
   "metadata": {},
   "outputs": [],
   "source": [
    "# Start out with a long list of integers from 0 to 100.\n",
    "# It's not really necessary to convert this range to a list, \n",
    "# but I want to print the actual values below.\n",
    "long_list = list(range(100))\n",
    "\n",
    "# Access a single entry.\n",
    "print(long_list[20])\n",
    "# Now, access a slice containing entries 20 through 25.\n",
    "# NOTE: Just like the range function, we don't actually get the value at the end of the slice!\n",
    "print(long_list[20:25])\n",
    "\n",
    "# If you want your slice to start at a particular entry and then just continue to the end of the\n",
    "# list, just leave out the end limit of the slice.\n",
    "print(long_list[92:])\n",
    "\n",
    "# Also like the range function, we can select a different step size for our slice.\n",
    "print(long_list[0:10:3])\n",
    "# And the step size can be negative, if we want to count backwards. In this case, I left out the\n",
    "# second value in my slice specification so that it would count all the way back to the start of\n",
    "# the list.\n",
    "print(long_list[5::-1])\n",
    "\n",
    "# All of these examples have been using a list where the list entries are numerically equivalent\n",
    "# to their positions in the list, but that doesn't have to be the case.\n",
    "jumbled_list = [8, 2, 6, \"ten\", 1]\n",
    "print(jumbled_list[1:4])\n"
   ]
  },
  {
   "cell_type": "markdown",
   "metadata": {},
   "source": [
    "### Tuples\n",
    "\n",
    "Tuples are another type of container in python, similar to lists. The major difference between tuples and lists is that once you create a tuple it can't be modified. So you can access the different entries, but you can't update them and you can't add new items to a tuple. There are reasons why this is useful, but we will generally be using lists (and numpy arrays that behave like lists).\n",
    "\n",
    "Tuples are created using parentheses rather than square brackets. You still use square brackets to access entries of a tuple, however."
   ]
  },
  {
   "cell_type": "code",
   "execution_count": null,
   "metadata": {},
   "outputs": [],
   "source": [
    "# Quick tuple example.\n",
    "string_tuple = (\"entry0\", \"entry 1\", 2.0, 3)\n",
    "print(string_tuple[1])\n"
   ]
  },
  {
   "cell_type": "code",
   "execution_count": null,
   "metadata": {},
   "outputs": [],
   "source": [
    "# But this will cause an error if you run it\n",
    "string_tuple[2] = \"some updated value\"\n"
   ]
  },
  {
   "cell_type": "markdown",
   "metadata": {},
   "source": [
    "### if statements\n",
    "\n",
    "When we are writing more complicated programs, it is necessary to have conditional statements, like \"if X is greater than 10 do this, otherwise do that.\" First we will need operators to do boolean arithmetic. Boolean arithmetic means that you are doing some calculation where the answer is either `True` or `False`. For example, `2 < 3` is `True` but `2 < 1` is `False`.\n",
    "\n",
    "Besides the less than `<` operator used above, we can also use greater than `>`, is equal to `==` (note that there are *two* equal signs), less than or equal to `<=`, greater than or equal to `>=`, and not equal to `!=`. We can also combine boolean expressions using `and` and `or`, or invert them using `not`.\n",
    "\n",
    "Try evaluating some boolean operations."
   ]
  },
  {
   "cell_type": "code",
   "execution_count": null,
   "metadata": {},
   "outputs": [],
   "source": [
    "# Is 2 equal to 3?\n",
    "print(2 == 3)\n",
    "# Is 2 *not equal* to 3?\n",
    "print(2 != 3)\n"
   ]
  },
  {
   "cell_type": "markdown",
   "metadata": {},
   "source": [
    "Now that we have some boolean operations, we can write an `if` statement. In python, this consists of the word `if`, followed by the boolean expression, and then a colon `:`. If the boolean expression is `True`, then python will evaluate any subsequent lines *that are indented*. Anything that is not in the indented block is not part of the if statement and will be evaluated normally, regardless of whether the boolean expression is `True` or `False`.\n",
    "\n",
    "Here are some examples."
   ]
  },
  {
   "cell_type": "code",
   "execution_count": null,
   "metadata": {},
   "outputs": [],
   "source": [
    "# The expression is false, so we don't evaluate the indented block.\n",
    "if 2 > 10:\n",
    "    print(\"This text will not be printed.\")\n",
    "print(\"This line is not indented, so it is printed normally.\")\n",
    "\n",
    "some_number = 2\n",
    "# This expression is true, so we evaluate the indented block.\n",
    "if some_number == 2:\n",
    "    print(\"This line will be printed.\")\n"
   ]
  },
  {
   "cell_type": "markdown",
   "metadata": {},
   "source": [
    "More complicated conditional statements can be built using the `elif` (else-if) and `else` commands."
   ]
  },
  {
   "cell_type": "code",
   "execution_count": null,
   "metadata": {},
   "outputs": [],
   "source": [
    "some_number = 4\n",
    "if some_number > 4:\n",
    "    print(\"The number is greater than 4\")\n",
    "elif some_number < 4:\n",
    "    print(\"The number is less than 4\")\n",
    "else:\n",
    "    print(\"The number must be equal to 4\")\n",
    "    "
   ]
  },
  {
   "cell_type": "markdown",
   "metadata": {},
   "source": [
    "### for loops\n",
    "\n",
    "We will frequently want to run the same operations over and over with slight variations. This can be done using a `for` loop. In a `for` loop, you take a sequence of values (like a list) and then just step through them. At each step of the for loop, it will execute any commands found in an indented block."
   ]
  },
  {
   "cell_type": "code",
   "execution_count": null,
   "metadata": {},
   "outputs": [],
   "source": [
    "# Step through each item in a list.\n",
    "greek_alphabet = [\"alpha\", \"beta\", \"gamma\", \"delta\", \"epsilon\"]\n",
    "for letter in greek_alphabet:\n",
    "    print(letter)\n",
    "print(\"This line is not part of the loop, so only runs once.\")\n"
   ]
  },
  {
   "cell_type": "code",
   "execution_count": null,
   "metadata": {},
   "outputs": [],
   "source": [
    "# Often we have some ordered lists and we want to just step through the entry numbers.\n",
    "# Then the range and len functions are very useful.\n",
    "array_1 = [2.0, 3.0, 4.0]\n",
    "array_2 = [7.0, 1.0, 1.0]\n",
    "# Now let's add these two arrays of numbers.\n",
    "for i in range(len(array_1)):\n",
    "    print(\"{} + {} = {}\".format(array_1[i], array_2[i], array_1[i] + array_2[i]))\n"
   ]
  },
  {
   "cell_type": "markdown",
   "metadata": {},
   "source": [
    "## Writing functions\n",
    "\n",
    "Good code should be well structured and logical. This makes it easier to understand and much easier to find bugs. One way that we will structure our code is by writing functions to do certain tasks that will be repeated again and again. \n",
    "\n",
    "We have already seen several functions, like `len` and `range`. The key aspect of these functions is that they take some inputs and then return one or more output values.\n",
    "\n",
    "To write a function in python, we start with the `def` statement (short for \"define\"), followed by the name of the function, then a list of the input variables in parentheses. The body of the function is another indented block. In that block we use the input variables to carry out our task. At the end of this indented block, there is usually a `return` statement, followed by a list of the output values to return."
   ]
  },
  {
   "cell_type": "code",
   "execution_count": null,
   "metadata": {},
   "outputs": [],
   "source": [
    "# Here is a stupidly simple example of a function.\n",
    "def multiply(x, y):\n",
    "    return x * y\n",
    "\n",
    "# Now, let's try it out.\n",
    "print(multiply(2, 3))\n"
   ]
  },
  {
   "cell_type": "code",
   "execution_count": null,
   "metadata": {},
   "outputs": [],
   "source": [
    "# Here is a less stupid function to take the dot product of two vectors, a and b.\n",
    "def dot_product(a, b):\n",
    "    # Check to make sure that a and b have the same length.\n",
    "    if len(a) != len(b):\n",
    "        print(\"ERROR: vectors a and b must have the same length!\")\n",
    "        return None \n",
    "        # If the lengths are different, then the function ends here.\n",
    "    # But if the lengths are the same, we can continue.\n",
    "    x = 0.0\n",
    "    for i in range(len(a)):\n",
    "        # Multiply the corresponding entries of vectors a and b and add it up.\n",
    "        x = x + a[i] * b[i]\n",
    "    # After the for loop is finished, we can return the result.\n",
    "    return x\n",
    "\n",
    "# Now, let's try it out.\n",
    "a = [0.5, 1.0, 2.0]\n",
    "b = [1.0, 1.0, 1.0]\n",
    "print(dot_product(a, b))\n",
    "# Example with orthogonal vectors.\n",
    "a = [1.0, 1.0, -2.0]\n",
    "b = [0.0, 2.0, 1.0]\n",
    "print(dot_product(a, b))\n"
   ]
  },
  {
   "cell_type": "code",
   "execution_count": null,
   "metadata": {},
   "outputs": [],
   "source": [
    "# Here is an example of a function that returns two values.\n",
    "# Finds the minimum and maximum values in an array of numbers.\n",
    "def min_max(array):\n",
    "    # Start with first entry of the array.\n",
    "    amin = array[0]\n",
    "    amax = array[0]\n",
    "    # Now, loop through the remaining entries and update min and max as we go.\n",
    "    for value in array:\n",
    "        if value < amin:\n",
    "            # Update min value.\n",
    "            amin = value\n",
    "        if value > amax:\n",
    "            # Update max value.\n",
    "            amax = value\n",
    "    # Done with the loop, return the result.\n",
    "    return (amin, amax)\n",
    "\n",
    "# Let's try it out.\n",
    "array = range(30)\n",
    "(amin, amax) = min_max(array)\n",
    "print(amin, amax)\n"
   ]
  },
  {
   "cell_type": "markdown",
   "metadata": {},
   "source": [
    "## Modules: numpy and matplotlib\n",
    "\n",
    "The most important features of python are not the built-in functions, but rather the countless modules that have been written to provide useful functions and object types. For almost any computing challenge, you can find a well designed and well documented module that solves your problem. We are going to focus on two specific modules that will be used heavily in the class.\n",
    "\n",
    "[`numpy`](http://www.numpy.org/) (short for \"numeric python\") provides a new container object called the `ndarray`. This is similar to a list, except that it only contains numerical data and it can be multi-dimensional. For example, a vector is a one-dimensional array and a matrix is a two-dimensional array. `numpy` contains many other useful features, such as random number generators.\n",
    "\n",
    "[`matplotlib`](http://matplotlib.org/) contains tools for making plots. We are specifically going to focus on `pyplot`, which is a submodule of `matplotlib` with a simpler interface.\n",
    "\n",
    "Let's start out with `numpy`. To use this module in your python code, you just `import` it. After you have imported a module, you can access its functions the same way that we accessed methods of the string or dict objects, using the dot `.` operator. So if you want the `logspace` function in `numpy`, you would use `numpy.logspace`. This could lead to typing `numpy` over and over again, so everyone typically shortens it from `numpy` to `np`, as follows:"
   ]
  },
  {
   "cell_type": "code",
   "execution_count": null,
   "metadata": {},
   "outputs": [],
   "source": [
    "import numpy as np\n",
    "# Now we can access all of the numpy functions and classes using the 'np' shorthand.\n",
    "\n",
    "# The logspace function creates an array of logarithmically-spaced values.\n",
    "print(np.logspace(-1, 1, 11))\n"
   ]
  },
  {
   "cell_type": "markdown",
   "metadata": {},
   "source": [
    "We will use the `numpy` array as our general purpose data container. Let's quickly explore some properties of it."
   ]
  },
  {
   "cell_type": "code",
   "execution_count": null,
   "metadata": {},
   "outputs": [],
   "source": [
    "# We can convert a list of numbers to an array.\n",
    "list_of_numbers = [12.0, 4.1, 8.5, 9.9, 16.7]\n",
    "array_of_numbers = np.array(list_of_numbers)\n",
    "\n",
    "# We can get the shape of the array. This is similar to the len function, except the array can be \n",
    "# multi-dimensional (but in this case it only has one dimension).\n",
    "print(array_of_numbers.shape)\n"
   ]
  },
  {
   "cell_type": "code",
   "execution_count": null,
   "metadata": {},
   "outputs": [],
   "source": [
    "# The arange function is very similar to range, except that we can get non-integer value.\n",
    "new_array = np.arange(0.0, 1.0, 0.1)\n",
    "print(new_array)\n"
   ]
  },
  {
   "cell_type": "code",
   "execution_count": null,
   "metadata": {},
   "outputs": [],
   "source": [
    "# The zeros function creates an array filled with zeros of any specified shape.\n",
    "\n",
    "# One-dimensional case.\n",
    "zeros_1d = np.zeros((10,))\n",
    "print(\"1D array:\")\n",
    "print(zeros_1d)\n",
    "\n",
    "# Two-dimensional case.\n",
    "zeros_2d = np.zeros((3, 4))\n",
    "print(\"2D array:\")\n",
    "print(zeros_2d)\n",
    "\n",
    "# Three-dimensional case.\n",
    "zeros_3d = np.zeros((3, 2, 2))\n",
    "print(\"3D array:\")\n",
    "print(zeros_3d)\n"
   ]
  },
  {
   "cell_type": "markdown",
   "metadata": {},
   "source": [
    "A very nice feature of `numpy` arrays is that we can do arithmitic with them, without writing for loops to step through every entry. For example, if you have two arrays that are the same size, then you can add them, subtract them, multiply them, or divide them. All of these operations will automatically function entry by entry. `numpy` also includes trig functions, exponentials, and logarithms, which will work seamlessly on arrays."
   ]
  },
  {
   "cell_type": "code",
   "execution_count": null,
   "metadata": {},
   "outputs": [],
   "source": [
    "# Multiply an array by a number.\n",
    "a = np.array([1.0, 2.0, 3.0])\n",
    "print(2 * a)\n",
    "\n",
    "# Subtract one aray from another.\n",
    "b = np.array([2.0, 3.0, 4.0])\n",
    "print(b - a)\n",
    "\n",
    "# Multiply or divide arrays.\n",
    "print(b * a)\n",
    "print(b / a)\n",
    "\n",
    "# Take the square root of an array.\n",
    "x = np.array([1.0, 4.0, 9.0, 16.0, 25.0])\n",
    "print(np.sqrt(x))\n",
    "\n",
    "# Exponentiate an array.\n",
    "print(np.exp(a))\n"
   ]
  },
  {
   "cell_type": "markdown",
   "metadata": {},
   "source": [
    "Since the `numpy` array can be multidimensional, we can slice it along any dimension. You still use square brackets, then select the slice for each dimension separated by commas. If you want to select *all* of the entries along a particular dimension, you can simply use a colon `:` without any start or end value. This sounds a bit complicated, so let's look at an example."
   ]
  },
  {
   "cell_type": "code",
   "execution_count": null,
   "metadata": {},
   "outputs": [],
   "source": [
    "# Create a 4x3 array (two-dimensional).\n",
    "new_array = np.array([[0, 1, 2], [3, 4, 5], [6, 7, 8], [9, 10, 11]])\n",
    "print(new_array)\n",
    "print(\"array shape = {}\".format(new_array.shape))\n",
    "\n",
    "# Select column 0 only.\n",
    "print(\"column 0 = {}\".format(new_array[:,0]))\n",
    "# Select row 0 only.\n",
    "print(\"row 0 = {}\".format(new_array[0,:]))\n",
    "# Select column 0 starting from row 1 (not row 0).\n",
    "print(\"column 0 starting from row 1 = {}\".format(new_array[1:,0]))\n"
   ]
  },
  {
   "cell_type": "markdown",
   "metadata": {},
   "source": [
    "Now that we have arrays for data containers, we can make plots using `matplotlib`. This is a much better way to inspect data than using `print`!\n",
    "\n",
    "We are going to import the `matplotlib.pyplot` plotting module, but we will refer to it as `plt` for short. Besides the import, I have added one more line that actually isn't a python command. \"`% matplotlib inline`\" tells the Jupyter notebook that any plots that are generated should be displayed in the notebook. (Otherwise we would have to write our plots to an image file and then open that file for viewing.)"
   ]
  },
  {
   "cell_type": "code",
   "execution_count": null,
   "metadata": {},
   "outputs": [],
   "source": [
    "import matplotlib.pyplot as plt\n",
    "% matplotlib inline\n"
   ]
  },
  {
   "cell_type": "code",
   "execution_count": null,
   "metadata": {},
   "outputs": [],
   "source": [
    "# Now we are ready to do some plotting.\n",
    "# Generate some values ranging from 0 to 2*pi, in steps of 0.01.\n",
    "x = np.arange(0, 2*np.pi, 0.01)\n",
    "# Use the plot function to draw some trig functions.\n",
    "plt.plot(x, np.sin(x))\n",
    "plt.plot(x, np.cos(x))\n",
    "# We can also label the axes of our plot.\n",
    "plt.xlabel(\"x\")\n",
    "plt.ylabel(\"sin or cos\")\n"
   ]
  },
  {
   "cell_type": "code",
   "execution_count": null,
   "metadata": {},
   "outputs": [],
   "source": [
    "# You can specify the color of the lines.\n",
    "plt.plot(x, np.sin(x), color=\"blue\")\n",
    "plt.plot(x + 1, np.sin(x), color=\"red\")\n",
    "# Or choose dashed or dotted lines.\n",
    "plt.plot(x + 2, np.sin(x), color=\"blue\", linestyle=\"--\")\n",
    "plt.plot(x + 3, np.sin(x), color=\"red\", linestyle=\":\")\n",
    "plt.plot(x + 4, np.sin(x), color=\"green\", linestyle=\"-.\")\n"
   ]
  },
  {
   "cell_type": "markdown",
   "metadata": {},
   "source": [
    "The `numpy` and `matplotlib` modules are both very deep with many capabilities. You will pick a lot more up over the course of the semester. Don't be afraid to use the `help` function!"
   ]
  },
  {
   "cell_type": "code",
   "execution_count": null,
   "metadata": {},
   "outputs": [],
   "source": []
  }
 ],
 "metadata": {
  "kernelspec": {
   "display_name": "Python 3",
   "language": "python",
   "name": "python3"
  },
  "language_info": {
   "codemirror_mode": {
    "name": "ipython",
    "version": 3
   },
   "file_extension": ".py",
   "mimetype": "text/x-python",
   "name": "python",
   "nbconvert_exporter": "python",
   "pygments_lexer": "ipython3",
   "version": "3.7.0"
  }
 },
 "nbformat": 4,
 "nbformat_minor": 2
}
