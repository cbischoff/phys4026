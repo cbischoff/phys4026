{
 "cells": [
  {
   "cell_type": "markdown",
   "metadata": {},
   "source": [
    "# Proper distance in empty universe"
   ]
  },
  {
   "cell_type": "code",
   "execution_count": null,
   "metadata": {},
   "outputs": [],
   "source": [
    "# Initial setup\n",
    "import numpy as np\n",
    "import matplotlib.pyplot as plt\n",
    "%matplotlib inline\n",
    "from matplotlib import rcParams\n",
    "rcParams.update({'font.size': 14})\n",
    "rcParams['figure.figsize'] = (10, 5)\n"
   ]
  },
  {
   "cell_type": "markdown",
   "metadata": {},
   "source": [
    "Plot the current proper distance to a galaxy at redshift $z$ in a Milne universe (empty, negative curvature). \n",
    "Proper distance is in units of $c / H_0$."
   ]
  },
  {
   "cell_type": "code",
   "execution_count": null,
   "metadata": {},
   "outputs": [],
   "source": [
    "# Logarithmically-spaced redshift values from 0.01 (10^-2) to 10000 (10^4)\n",
    "z = np.logspace(-2, 4, 100)\n",
    "# Calculate proper distance.\n",
    "dp0 = np.log(1 + z)\n",
    "# Plot on log-log axis.\n",
    "plt.loglog(z, dp0)\n",
    "plt.xlabel('$z$')\n",
    "plt.ylabel('$d_p(t_0)$')\n"
   ]
  },
  {
   "cell_type": "markdown",
   "metadata": {},
   "source": [
    "Now, calculate the proper distance at the time when the light was emitted."
   ]
  },
  {
   "cell_type": "code",
   "execution_count": null,
   "metadata": {},
   "outputs": [],
   "source": [
    "# Proper distance at time when light was emitted is smaller by factor 1+z\n",
    "dpe = dp0 / (1 + z)\n",
    "# Plot on log-log axis.\n",
    "plt.loglog(z, dpe)\n",
    "plt.xlabel('$z$')\n",
    "plt.ylabel('$d_p(t_e)$')\n"
   ]
  },
  {
   "cell_type": "markdown",
   "metadata": {},
   "source": [
    "Plot the age of the universe at the time when the light was emitted, in units of the Hubble time. This is the same as the scale factor at the time when the light was emitted, $a(t_e)$."
   ]
  },
  {
   "cell_type": "code",
   "execution_count": null,
   "metadata": {},
   "outputs": [],
   "source": [
    "# Redshift z corresponds to time H_0 / (1+z)\n",
    "te = 1.0 / (1.0 + z)\n",
    "# Plot on log-log axis.\n",
    "plt.loglog(z, te)\n",
    "plt.xlabel('$z$')\n",
    "plt.ylabel('$t_e$')\n"
   ]
  },
  {
   "cell_type": "code",
   "execution_count": null,
   "metadata": {},
   "outputs": [],
   "source": []
  }
 ],
 "metadata": {
  "kernelspec": {
   "display_name": "Python 3",
   "language": "python",
   "name": "python3"
  },
  "language_info": {
   "codemirror_mode": {
    "name": "ipython",
    "version": 3
   },
   "file_extension": ".py",
   "mimetype": "text/x-python",
   "name": "python",
   "nbconvert_exporter": "python",
   "pygments_lexer": "ipython3",
   "version": "3.7.2"
  }
 },
 "nbformat": 4,
 "nbformat_minor": 2
}
